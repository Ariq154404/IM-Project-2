{
  "nbformat": 4,
  "nbformat_minor": 5,
  "metadata": {
    "kernelspec": {
      "display_name": "Python 3",
      "language": "python",
      "name": "python3"
    },
    "language_info": {
      "codemirror_mode": {
        "name": "ipython",
        "version": 3
      },
      "file_extension": ".py",
      "mimetype": "text/x-python",
      "name": "python",
      "nbconvert_exporter": "python",
      "pygments_lexer": "ipython3",
      "version": "3.7.10"
    },
    "colab": {
      "name": "Jigsaw FeatureEngg-1.ipynb",
      "provenance": [],
      "include_colab_link": true
    }
  },
  "cells": [
    {
      "cell_type": "markdown",
      "metadata": {
        "id": "view-in-github",
        "colab_type": "text"
      },
      "source": [
        "<a href=\"https://colab.research.google.com/github/Ariq154404/IM-Project-2/blob/main/Jigsaw_FeatureEngg_1.ipynb\" target=\"_parent\"><img src=\"https://colab.research.google.com/assets/colab-badge.svg\" alt=\"Open In Colab\"/></a>"
      ]
    },
    {
      "cell_type": "markdown",
      "metadata": {
        "id": "b4iR8e5z1YOV"
      },
      "source": [
        "**This part of the code was done in google cloud platform to do feature extraction.**"
      ],
      "id": "b4iR8e5z1YOV"
    },
    {
      "cell_type": "markdown",
      "metadata": {
        "id": "3obQ25_a3t-S"
      },
      "source": [
        "Here Tranformers are installed to take use of BERT from Huggingface"
      ],
      "id": "3obQ25_a3t-S"
    },
    {
      "cell_type": "code",
      "metadata": {
        "id": "perceived-access",
        "outputId": "4a76070e-4353-4b06-cbb4-bd9d7dd1f5e8"
      },
      "source": [
        "!pip install transformers"
      ],
      "id": "perceived-access",
      "execution_count": null,
      "outputs": [
        {
          "output_type": "stream",
          "text": [
            "Requirement already satisfied: transformers in /opt/conda/lib/python3.7/site-packages (4.5.1)\n",
            "Requirement already satisfied: tokenizers<0.11,>=0.10.1 in /opt/conda/lib/python3.7/site-packages (from transformers) (0.10.2)\n",
            "Requirement already satisfied: packaging in /opt/conda/lib/python3.7/site-packages (from transformers) (20.9)\n",
            "Requirement already satisfied: requests in /opt/conda/lib/python3.7/site-packages (from transformers) (2.25.1)\n",
            "Requirement already satisfied: regex!=2019.12.17 in /opt/conda/lib/python3.7/site-packages (from transformers) (2021.3.17)\n",
            "Requirement already satisfied: numpy>=1.17 in /opt/conda/lib/python3.7/site-packages (from transformers) (1.19.5)\n",
            "Requirement already satisfied: sacremoses in /opt/conda/lib/python3.7/site-packages (from transformers) (0.0.45)\n",
            "Requirement already satisfied: tqdm>=4.27 in /opt/conda/lib/python3.7/site-packages (from transformers) (4.59.0)\n",
            "Requirement already satisfied: filelock in /opt/conda/lib/python3.7/site-packages (from transformers) (3.0.12)\n",
            "Requirement already satisfied: importlib-metadata in /opt/conda/lib/python3.7/site-packages (from transformers) (3.4.0)\n",
            "Requirement already satisfied: typing-extensions>=3.6.4 in /opt/conda/lib/python3.7/site-packages (from importlib-metadata->transformers) (3.7.4.3)\n",
            "Requirement already satisfied: zipp>=0.5 in /opt/conda/lib/python3.7/site-packages (from importlib-metadata->transformers) (3.4.1)\n",
            "Requirement already satisfied: pyparsing>=2.0.2 in /opt/conda/lib/python3.7/site-packages (from packaging->transformers) (2.4.7)\n",
            "Requirement already satisfied: urllib3<1.27,>=1.21.1 in /opt/conda/lib/python3.7/site-packages (from requests->transformers) (1.26.4)\n",
            "Requirement already satisfied: chardet<5,>=3.0.2 in /opt/conda/lib/python3.7/site-packages (from requests->transformers) (4.0.0)\n",
            "Requirement already satisfied: idna<3,>=2.5 in /opt/conda/lib/python3.7/site-packages (from requests->transformers) (2.10)\n",
            "Requirement already satisfied: certifi>=2017.4.17 in /opt/conda/lib/python3.7/site-packages (from requests->transformers) (2020.12.5)\n",
            "Requirement already satisfied: click in /opt/conda/lib/python3.7/site-packages (from sacremoses->transformers) (7.1.2)\n",
            "Requirement already satisfied: joblib in /opt/conda/lib/python3.7/site-packages (from sacremoses->transformers) (1.0.1)\n",
            "Requirement already satisfied: six in /opt/conda/lib/python3.7/site-packages (from sacremoses->transformers) (1.15.0)\n"
          ],
          "name": "stdout"
        }
      ]
    },
    {
      "cell_type": "markdown",
      "metadata": {
        "id": "oNQHUyVR4HJq"
      },
      "source": [
        "Important library pertaining to the Feature processing are being installed"
      ],
      "id": "oNQHUyVR4HJq"
    },
    {
      "cell_type": "code",
      "metadata": {
        "id": "sacred-cassette"
      },
      "source": [
        "import numpy as np\n",
        "import pandas as pd\n",
        "from sklearn.model_selection import train_test_split\n",
        "from sklearn.linear_model import LogisticRegression\n",
        "from sklearn.model_selection import GridSearchCV\n",
        "from sklearn.model_selection import cross_val_score\n",
        "import torch\n",
        "import transformers as ppb\n",
        "import warnings\n",
        "warnings.filterwarnings('ignore')"
      ],
      "id": "sacred-cassette",
      "execution_count": null,
      "outputs": []
    },
    {
      "cell_type": "markdown",
      "metadata": {
        "id": "d7j4_KcM4Rp_"
      },
      "source": [
        "Here the train data is being read"
      ],
      "id": "d7j4_KcM4Rp_"
    },
    {
      "cell_type": "code",
      "metadata": {
        "id": "determined-metallic"
      },
      "source": [
        "df_train=pd.read_csv('train.csv')"
      ],
      "id": "determined-metallic",
      "execution_count": null,
      "outputs": []
    },
    {
      "cell_type": "code",
      "metadata": {
        "id": "alternative-maple",
        "outputId": "19031af0-4276-4db3-d613-08f4001d0455"
      },
      "source": [
        "df_train.head()\n"
      ],
      "id": "alternative-maple",
      "execution_count": null,
      "outputs": [
        {
          "output_type": "execute_result",
          "data": {
            "text/html": [
              "<div>\n",
              "<style scoped>\n",
              "    .dataframe tbody tr th:only-of-type {\n",
              "        vertical-align: middle;\n",
              "    }\n",
              "\n",
              "    .dataframe tbody tr th {\n",
              "        vertical-align: top;\n",
              "    }\n",
              "\n",
              "    .dataframe thead th {\n",
              "        text-align: right;\n",
              "    }\n",
              "</style>\n",
              "<table border=\"1\" class=\"dataframe\">\n",
              "  <thead>\n",
              "    <tr style=\"text-align: right;\">\n",
              "      <th></th>\n",
              "      <th>id</th>\n",
              "      <th>target</th>\n",
              "      <th>comment_text</th>\n",
              "      <th>severe_toxicity</th>\n",
              "      <th>obscene</th>\n",
              "      <th>identity_attack</th>\n",
              "      <th>insult</th>\n",
              "      <th>threat</th>\n",
              "      <th>asian</th>\n",
              "      <th>atheist</th>\n",
              "      <th>...</th>\n",
              "      <th>article_id</th>\n",
              "      <th>rating</th>\n",
              "      <th>funny</th>\n",
              "      <th>wow</th>\n",
              "      <th>sad</th>\n",
              "      <th>likes</th>\n",
              "      <th>disagree</th>\n",
              "      <th>sexual_explicit</th>\n",
              "      <th>identity_annotator_count</th>\n",
              "      <th>toxicity_annotator_count</th>\n",
              "    </tr>\n",
              "  </thead>\n",
              "  <tbody>\n",
              "    <tr>\n",
              "      <th>0</th>\n",
              "      <td>59848</td>\n",
              "      <td>0.000000</td>\n",
              "      <td>This is so cool. It's like, 'would you want yo...</td>\n",
              "      <td>0.000000</td>\n",
              "      <td>0.0</td>\n",
              "      <td>0.000000</td>\n",
              "      <td>0.00000</td>\n",
              "      <td>0.0</td>\n",
              "      <td>NaN</td>\n",
              "      <td>NaN</td>\n",
              "      <td>...</td>\n",
              "      <td>2006</td>\n",
              "      <td>rejected</td>\n",
              "      <td>0</td>\n",
              "      <td>0</td>\n",
              "      <td>0</td>\n",
              "      <td>0</td>\n",
              "      <td>0</td>\n",
              "      <td>0.0</td>\n",
              "      <td>0</td>\n",
              "      <td>4</td>\n",
              "    </tr>\n",
              "    <tr>\n",
              "      <th>1</th>\n",
              "      <td>59849</td>\n",
              "      <td>0.000000</td>\n",
              "      <td>Thank you!! This would make my life a lot less...</td>\n",
              "      <td>0.000000</td>\n",
              "      <td>0.0</td>\n",
              "      <td>0.000000</td>\n",
              "      <td>0.00000</td>\n",
              "      <td>0.0</td>\n",
              "      <td>NaN</td>\n",
              "      <td>NaN</td>\n",
              "      <td>...</td>\n",
              "      <td>2006</td>\n",
              "      <td>rejected</td>\n",
              "      <td>0</td>\n",
              "      <td>0</td>\n",
              "      <td>0</td>\n",
              "      <td>0</td>\n",
              "      <td>0</td>\n",
              "      <td>0.0</td>\n",
              "      <td>0</td>\n",
              "      <td>4</td>\n",
              "    </tr>\n",
              "    <tr>\n",
              "      <th>2</th>\n",
              "      <td>59852</td>\n",
              "      <td>0.000000</td>\n",
              "      <td>This is such an urgent design problem; kudos t...</td>\n",
              "      <td>0.000000</td>\n",
              "      <td>0.0</td>\n",
              "      <td>0.000000</td>\n",
              "      <td>0.00000</td>\n",
              "      <td>0.0</td>\n",
              "      <td>NaN</td>\n",
              "      <td>NaN</td>\n",
              "      <td>...</td>\n",
              "      <td>2006</td>\n",
              "      <td>rejected</td>\n",
              "      <td>0</td>\n",
              "      <td>0</td>\n",
              "      <td>0</td>\n",
              "      <td>0</td>\n",
              "      <td>0</td>\n",
              "      <td>0.0</td>\n",
              "      <td>0</td>\n",
              "      <td>4</td>\n",
              "    </tr>\n",
              "    <tr>\n",
              "      <th>3</th>\n",
              "      <td>59855</td>\n",
              "      <td>0.000000</td>\n",
              "      <td>Is this something I'll be able to install on m...</td>\n",
              "      <td>0.000000</td>\n",
              "      <td>0.0</td>\n",
              "      <td>0.000000</td>\n",
              "      <td>0.00000</td>\n",
              "      <td>0.0</td>\n",
              "      <td>NaN</td>\n",
              "      <td>NaN</td>\n",
              "      <td>...</td>\n",
              "      <td>2006</td>\n",
              "      <td>rejected</td>\n",
              "      <td>0</td>\n",
              "      <td>0</td>\n",
              "      <td>0</td>\n",
              "      <td>0</td>\n",
              "      <td>0</td>\n",
              "      <td>0.0</td>\n",
              "      <td>0</td>\n",
              "      <td>4</td>\n",
              "    </tr>\n",
              "    <tr>\n",
              "      <th>4</th>\n",
              "      <td>59856</td>\n",
              "      <td>0.893617</td>\n",
              "      <td>haha you guys are a bunch of losers.</td>\n",
              "      <td>0.021277</td>\n",
              "      <td>0.0</td>\n",
              "      <td>0.021277</td>\n",
              "      <td>0.87234</td>\n",
              "      <td>0.0</td>\n",
              "      <td>0.0</td>\n",
              "      <td>0.0</td>\n",
              "      <td>...</td>\n",
              "      <td>2006</td>\n",
              "      <td>rejected</td>\n",
              "      <td>0</td>\n",
              "      <td>0</td>\n",
              "      <td>0</td>\n",
              "      <td>1</td>\n",
              "      <td>0</td>\n",
              "      <td>0.0</td>\n",
              "      <td>4</td>\n",
              "      <td>47</td>\n",
              "    </tr>\n",
              "  </tbody>\n",
              "</table>\n",
              "<p>5 rows × 45 columns</p>\n",
              "</div>"
            ],
            "text/plain": [
              "      id    target                                       comment_text  \\\n",
              "0  59848  0.000000  This is so cool. It's like, 'would you want yo...   \n",
              "1  59849  0.000000  Thank you!! This would make my life a lot less...   \n",
              "2  59852  0.000000  This is such an urgent design problem; kudos t...   \n",
              "3  59855  0.000000  Is this something I'll be able to install on m...   \n",
              "4  59856  0.893617               haha you guys are a bunch of losers.   \n",
              "\n",
              "   severe_toxicity  obscene  identity_attack   insult  threat  asian  atheist  \\\n",
              "0         0.000000      0.0         0.000000  0.00000     0.0    NaN      NaN   \n",
              "1         0.000000      0.0         0.000000  0.00000     0.0    NaN      NaN   \n",
              "2         0.000000      0.0         0.000000  0.00000     0.0    NaN      NaN   \n",
              "3         0.000000      0.0         0.000000  0.00000     0.0    NaN      NaN   \n",
              "4         0.021277      0.0         0.021277  0.87234     0.0    0.0      0.0   \n",
              "\n",
              "   ...  article_id    rating  funny  wow  sad  likes  disagree  \\\n",
              "0  ...        2006  rejected      0    0    0      0         0   \n",
              "1  ...        2006  rejected      0    0    0      0         0   \n",
              "2  ...        2006  rejected      0    0    0      0         0   \n",
              "3  ...        2006  rejected      0    0    0      0         0   \n",
              "4  ...        2006  rejected      0    0    0      1         0   \n",
              "\n",
              "   sexual_explicit  identity_annotator_count  toxicity_annotator_count  \n",
              "0              0.0                         0                         4  \n",
              "1              0.0                         0                         4  \n",
              "2              0.0                         0                         4  \n",
              "3              0.0                         0                         4  \n",
              "4              0.0                         4                        47  \n",
              "\n",
              "[5 rows x 45 columns]"
            ]
          },
          "metadata": {
            "tags": []
          },
          "execution_count": 4
        }
      ]
    },
    {
      "cell_type": "markdown",
      "metadata": {
        "id": "TQ1uzbho4ejt"
      },
      "source": [
        "Only column_Text and target are being chosen"
      ],
      "id": "TQ1uzbho4ejt"
    },
    {
      "cell_type": "code",
      "metadata": {
        "id": "textile-glass"
      },
      "source": [
        "df_train=df_train[['comment_text','target']]"
      ],
      "id": "textile-glass",
      "execution_count": null,
      "outputs": []
    },
    {
      "cell_type": "code",
      "metadata": {
        "id": "fewer-designation",
        "outputId": "64846a0d-e460-4b9b-aabc-e799c26e1702"
      },
      "source": [
        "df_train = df_train.sample(frac = 1)\n",
        "df_train.reset_index(drop=True)"
      ],
      "id": "fewer-designation",
      "execution_count": null,
      "outputs": [
        {
          "output_type": "execute_result",
          "data": {
            "text/html": [
              "<div>\n",
              "<style scoped>\n",
              "    .dataframe tbody tr th:only-of-type {\n",
              "        vertical-align: middle;\n",
              "    }\n",
              "\n",
              "    .dataframe tbody tr th {\n",
              "        vertical-align: top;\n",
              "    }\n",
              "\n",
              "    .dataframe thead th {\n",
              "        text-align: right;\n",
              "    }\n",
              "</style>\n",
              "<table border=\"1\" class=\"dataframe\">\n",
              "  <thead>\n",
              "    <tr style=\"text-align: right;\">\n",
              "      <th></th>\n",
              "      <th>comment_text</th>\n",
              "      <th>target</th>\n",
              "    </tr>\n",
              "  </thead>\n",
              "  <tbody>\n",
              "    <tr>\n",
              "      <th>0</th>\n",
              "      <td>Sorry China,we have a more important deal we n...</td>\n",
              "      <td>0.000000</td>\n",
              "    </tr>\n",
              "    <tr>\n",
              "      <th>1</th>\n",
              "      <td>I've dealt with this ER and Dr. on two differe...</td>\n",
              "      <td>0.000000</td>\n",
              "    </tr>\n",
              "    <tr>\n",
              "      <th>2</th>\n",
              "      <td>Your belief in a vengeful sky daddy doesn't tr...</td>\n",
              "      <td>0.166667</td>\n",
              "    </tr>\n",
              "    <tr>\n",
              "      <th>3</th>\n",
              "      <td>Ah those Russians, have to give em credit for ...</td>\n",
              "      <td>0.400000</td>\n",
              "    </tr>\n",
              "    <tr>\n",
              "      <th>4</th>\n",
              "      <td>\"His handles were not elected , there is only ...</td>\n",
              "      <td>0.400000</td>\n",
              "    </tr>\n",
              "    <tr>\n",
              "      <th>...</th>\n",
              "      <td>...</td>\n",
              "      <td>...</td>\n",
              "    </tr>\n",
              "    <tr>\n",
              "      <th>1804869</th>\n",
              "      <td>You know, it might go over well to refer to th...</td>\n",
              "      <td>0.455882</td>\n",
              "    </tr>\n",
              "    <tr>\n",
              "      <th>1804870</th>\n",
              "      <td>imagine. a lifestyle that lives in harmony wit...</td>\n",
              "      <td>0.700000</td>\n",
              "    </tr>\n",
              "    <tr>\n",
              "      <th>1804871</th>\n",
              "      <td>Thank you, Paxima. I've been working here at m...</td>\n",
              "      <td>0.000000</td>\n",
              "    </tr>\n",
              "    <tr>\n",
              "      <th>1804872</th>\n",
              "      <td>Mr. Dunlap's claims that \"WSF tries to make ou...</td>\n",
              "      <td>0.000000</td>\n",
              "    </tr>\n",
              "    <tr>\n",
              "      <th>1804873</th>\n",
              "      <td>Ye reap what you sow isn't that what they say....</td>\n",
              "      <td>0.000000</td>\n",
              "    </tr>\n",
              "  </tbody>\n",
              "</table>\n",
              "<p>1804874 rows × 2 columns</p>\n",
              "</div>"
            ],
            "text/plain": [
              "                                              comment_text    target\n",
              "0        Sorry China,we have a more important deal we n...  0.000000\n",
              "1        I've dealt with this ER and Dr. on two differe...  0.000000\n",
              "2        Your belief in a vengeful sky daddy doesn't tr...  0.166667\n",
              "3        Ah those Russians, have to give em credit for ...  0.400000\n",
              "4        \"His handles were not elected , there is only ...  0.400000\n",
              "...                                                    ...       ...\n",
              "1804869  You know, it might go over well to refer to th...  0.455882\n",
              "1804870  imagine. a lifestyle that lives in harmony wit...  0.700000\n",
              "1804871  Thank you, Paxima. I've been working here at m...  0.000000\n",
              "1804872  Mr. Dunlap's claims that \"WSF tries to make ou...  0.000000\n",
              "1804873  Ye reap what you sow isn't that what they say....  0.000000\n",
              "\n",
              "[1804874 rows x 2 columns]"
            ]
          },
          "metadata": {
            "tags": []
          },
          "execution_count": 6
        }
      ]
    },
    {
      "cell_type": "code",
      "metadata": {
        "id": "velvet-forum",
        "outputId": "6d8c82e9-736d-4dc5-ca2b-f1c5c906e271"
      },
      "source": [
        "df_train.info()"
      ],
      "id": "velvet-forum",
      "execution_count": null,
      "outputs": [
        {
          "output_type": "stream",
          "text": [
            "<class 'pandas.core.frame.DataFrame'>\n",
            "Int64Index: 1804874 entries, 846242 to 579622\n",
            "Data columns (total 2 columns):\n",
            " #   Column        Dtype  \n",
            "---  ------        -----  \n",
            " 0   comment_text  object \n",
            " 1   target        float64\n",
            "dtypes: float64(1), object(1)\n",
            "memory usage: 41.3+ MB\n"
          ],
          "name": "stdout"
        }
      ]
    },
    {
      "cell_type": "markdown",
      "metadata": {
        "id": "RwgZszHX4n0E"
      },
      "source": [
        "Only 90000 shuffeled rows are being chosed due to the complexity of the process"
      ],
      "id": "RwgZszHX4n0E"
    },
    {
      "cell_type": "code",
      "metadata": {
        "id": "purple-prize"
      },
      "source": [
        "df_train=df_train.head(90000)"
      ],
      "id": "purple-prize",
      "execution_count": null,
      "outputs": []
    },
    {
      "cell_type": "code",
      "metadata": {
        "id": "sensitive-hanging",
        "outputId": "af9dc105-5ecb-4ec5-faa2-5c30e97b7d43"
      },
      "source": [
        "df_train.shape"
      ],
      "id": "sensitive-hanging",
      "execution_count": null,
      "outputs": [
        {
          "output_type": "execute_result",
          "data": {
            "text/plain": [
              "(90000, 2)"
            ]
          },
          "metadata": {
            "tags": []
          },
          "execution_count": 9
        }
      ]
    },
    {
      "cell_type": "code",
      "metadata": {
        "id": "ethical-barrel"
      },
      "source": [
        "df_train.reset_index(inplace=True)"
      ],
      "id": "ethical-barrel",
      "execution_count": null,
      "outputs": []
    },
    {
      "cell_type": "code",
      "metadata": {
        "id": "opening-thailand"
      },
      "source": [
        "df_train.to_csv('small_train.csv')"
      ],
      "id": "opening-thailand",
      "execution_count": null,
      "outputs": []
    },
    {
      "cell_type": "code",
      "metadata": {
        "id": "going-velvet",
        "outputId": "dc362d46-31ff-4919-b49d-57d9075a3663"
      },
      "source": [
        "df_train.info()"
      ],
      "id": "going-velvet",
      "execution_count": null,
      "outputs": [
        {
          "output_type": "stream",
          "text": [
            "<class 'pandas.core.frame.DataFrame'>\n",
            "RangeIndex: 90000 entries, 0 to 89999\n",
            "Data columns (total 3 columns):\n",
            " #   Column        Non-Null Count  Dtype  \n",
            "---  ------        --------------  -----  \n",
            " 0   index         90000 non-null  int64  \n",
            " 1   comment_text  90000 non-null  object \n",
            " 2   target        90000 non-null  float64\n",
            "dtypes: float64(1), int64(1), object(1)\n",
            "memory usage: 2.1+ MB\n"
          ],
          "name": "stdout"
        }
      ]
    },
    {
      "cell_type": "code",
      "metadata": {
        "id": "other-behavior",
        "outputId": "d68afc72-ddf3-4dc6-bb9b-8d19df2dfa90"
      },
      "source": [
        "df_train['target'].describe()"
      ],
      "id": "other-behavior",
      "execution_count": null,
      "outputs": [
        {
          "output_type": "execute_result",
          "data": {
            "text/plain": [
              "count    90000.000000\n",
              "mean         0.102637\n",
              "std          0.196530\n",
              "min          0.000000\n",
              "25%          0.000000\n",
              "50%          0.000000\n",
              "75%          0.166667\n",
              "max          1.000000\n",
              "Name: target, dtype: float64"
            ]
          },
          "metadata": {
            "tags": []
          },
          "execution_count": 30
        }
      ]
    },
    {
      "cell_type": "code",
      "metadata": {
        "id": "dominican-stuff"
      },
      "source": [
        "df_test=pd.read_csv('test.csv')"
      ],
      "id": "dominican-stuff",
      "execution_count": null,
      "outputs": []
    },
    {
      "cell_type": "code",
      "metadata": {
        "id": "armed-conclusion",
        "outputId": "e05949e8-2605-4917-f535-77c6c9872c11"
      },
      "source": [
        "df_test.head()"
      ],
      "id": "armed-conclusion",
      "execution_count": null,
      "outputs": [
        {
          "output_type": "execute_result",
          "data": {
            "text/html": [
              "<div>\n",
              "<style scoped>\n",
              "    .dataframe tbody tr th:only-of-type {\n",
              "        vertical-align: middle;\n",
              "    }\n",
              "\n",
              "    .dataframe tbody tr th {\n",
              "        vertical-align: top;\n",
              "    }\n",
              "\n",
              "    .dataframe thead th {\n",
              "        text-align: right;\n",
              "    }\n",
              "</style>\n",
              "<table border=\"1\" class=\"dataframe\">\n",
              "  <thead>\n",
              "    <tr style=\"text-align: right;\">\n",
              "      <th></th>\n",
              "      <th>id</th>\n",
              "      <th>comment_text</th>\n",
              "    </tr>\n",
              "  </thead>\n",
              "  <tbody>\n",
              "    <tr>\n",
              "      <th>0</th>\n",
              "      <td>7097320</td>\n",
              "      <td>[ Integrity means that you pay your debts.]\\n\\...</td>\n",
              "    </tr>\n",
              "    <tr>\n",
              "      <th>1</th>\n",
              "      <td>7097321</td>\n",
              "      <td>This is malfeasance by the Administrator and t...</td>\n",
              "    </tr>\n",
              "    <tr>\n",
              "      <th>2</th>\n",
              "      <td>7097322</td>\n",
              "      <td>@Rmiller101 - Spoken like a true elitist. But ...</td>\n",
              "    </tr>\n",
              "    <tr>\n",
              "      <th>3</th>\n",
              "      <td>7097323</td>\n",
              "      <td>Paul: Thank you for your kind words.  I do, in...</td>\n",
              "    </tr>\n",
              "    <tr>\n",
              "      <th>4</th>\n",
              "      <td>7097324</td>\n",
              "      <td>Sorry you missed high school. Eisenhower sent ...</td>\n",
              "    </tr>\n",
              "  </tbody>\n",
              "</table>\n",
              "</div>"
            ],
            "text/plain": [
              "        id                                       comment_text\n",
              "0  7097320  [ Integrity means that you pay your debts.]\\n\\...\n",
              "1  7097321  This is malfeasance by the Administrator and t...\n",
              "2  7097322  @Rmiller101 - Spoken like a true elitist. But ...\n",
              "3  7097323  Paul: Thank you for your kind words.  I do, in...\n",
              "4  7097324  Sorry you missed high school. Eisenhower sent ..."
            ]
          },
          "metadata": {
            "tags": []
          },
          "execution_count": 16
        }
      ]
    },
    {
      "cell_type": "code",
      "metadata": {
        "id": "critical-provincial",
        "outputId": "e51b76bd-ee75-4c8b-ab75-894822fe2b67"
      },
      "source": [
        "df_test.shape"
      ],
      "id": "critical-provincial",
      "execution_count": null,
      "outputs": [
        {
          "output_type": "execute_result",
          "data": {
            "text/plain": [
              "(97320, 2)"
            ]
          },
          "metadata": {
            "tags": []
          },
          "execution_count": 32
        }
      ]
    },
    {
      "cell_type": "code",
      "metadata": {
        "id": "lined-torture",
        "outputId": "791bce1f-d47a-49e8-a421-5afe4e465daa"
      },
      "source": [
        "df_train.head()"
      ],
      "id": "lined-torture",
      "execution_count": null,
      "outputs": [
        {
          "output_type": "execute_result",
          "data": {
            "text/html": [
              "<div>\n",
              "<style scoped>\n",
              "    .dataframe tbody tr th:only-of-type {\n",
              "        vertical-align: middle;\n",
              "    }\n",
              "\n",
              "    .dataframe tbody tr th {\n",
              "        vertical-align: top;\n",
              "    }\n",
              "\n",
              "    .dataframe thead th {\n",
              "        text-align: right;\n",
              "    }\n",
              "</style>\n",
              "<table border=\"1\" class=\"dataframe\">\n",
              "  <thead>\n",
              "    <tr style=\"text-align: right;\">\n",
              "      <th></th>\n",
              "      <th>index</th>\n",
              "      <th>comment_text</th>\n",
              "      <th>target</th>\n",
              "    </tr>\n",
              "  </thead>\n",
              "  <tbody>\n",
              "    <tr>\n",
              "      <th>0</th>\n",
              "      <td>846242</td>\n",
              "      <td>Sorry China,we have a more important deal we n...</td>\n",
              "      <td>0.000000</td>\n",
              "    </tr>\n",
              "    <tr>\n",
              "      <th>1</th>\n",
              "      <td>896179</td>\n",
              "      <td>I've dealt with this ER and Dr. on two differe...</td>\n",
              "      <td>0.000000</td>\n",
              "    </tr>\n",
              "    <tr>\n",
              "      <th>2</th>\n",
              "      <td>1305007</td>\n",
              "      <td>Your belief in a vengeful sky daddy doesn't tr...</td>\n",
              "      <td>0.166667</td>\n",
              "    </tr>\n",
              "    <tr>\n",
              "      <th>3</th>\n",
              "      <td>1153675</td>\n",
              "      <td>Ah those Russians, have to give em credit for ...</td>\n",
              "      <td>0.400000</td>\n",
              "    </tr>\n",
              "    <tr>\n",
              "      <th>4</th>\n",
              "      <td>934343</td>\n",
              "      <td>\"His handles were not elected , there is only ...</td>\n",
              "      <td>0.400000</td>\n",
              "    </tr>\n",
              "  </tbody>\n",
              "</table>\n",
              "</div>"
            ],
            "text/plain": [
              "     index                                       comment_text    target\n",
              "0   846242  Sorry China,we have a more important deal we n...  0.000000\n",
              "1   896179  I've dealt with this ER and Dr. on two differe...  0.000000\n",
              "2  1305007  Your belief in a vengeful sky daddy doesn't tr...  0.166667\n",
              "3  1153675  Ah those Russians, have to give em credit for ...  0.400000\n",
              "4   934343  \"His handles were not elected , there is only ...  0.400000"
            ]
          },
          "metadata": {
            "tags": []
          },
          "execution_count": 31
        }
      ]
    },
    {
      "cell_type": "code",
      "metadata": {
        "id": "ordinary-bench",
        "outputId": "8c16935c-4280-4a18-eca2-8e81f5165731"
      },
      "source": [
        "df_train.shape"
      ],
      "id": "ordinary-bench",
      "execution_count": null,
      "outputs": [
        {
          "output_type": "execute_result",
          "data": {
            "text/plain": [
              "(90000, 3)"
            ]
          },
          "metadata": {
            "tags": []
          },
          "execution_count": 33
        }
      ]
    },
    {
      "cell_type": "markdown",
      "metadata": {
        "id": "_sDfUbO95A1C"
      },
      "source": [
        "Total comment_text from test and train are being appended "
      ],
      "id": "_sDfUbO95A1C"
    },
    {
      "cell_type": "code",
      "metadata": {
        "id": "japanese-nowhere"
      },
      "source": [
        "tot_comment=pd.concat((df_train['comment_text'],df_test['comment_text']),axis=0)"
      ],
      "id": "japanese-nowhere",
      "execution_count": null,
      "outputs": []
    },
    {
      "cell_type": "code",
      "metadata": {
        "id": "joint-shower",
        "outputId": "3589463b-1fd3-461a-943b-f4aa9607120a"
      },
      "source": [
        "tot_comment.head()"
      ],
      "id": "joint-shower",
      "execution_count": null,
      "outputs": [
        {
          "output_type": "execute_result",
          "data": {
            "text/plain": [
              "0    Sorry China,we have a more important deal we n...\n",
              "1    I've dealt with this ER and Dr. on two differe...\n",
              "2    Your belief in a vengeful sky daddy doesn't tr...\n",
              "3    Ah those Russians, have to give em credit for ...\n",
              "4    \"His handles were not elected , there is only ...\n",
              "Name: comment_text, dtype: object"
            ]
          },
          "metadata": {
            "tags": []
          },
          "execution_count": 35
        }
      ]
    },
    {
      "cell_type": "code",
      "metadata": {
        "id": "copyrighted-colony",
        "outputId": "dac1e637-2098-4e22-e235-163a19117363"
      },
      "source": [
        "tot_comment.shape"
      ],
      "id": "copyrighted-colony",
      "execution_count": null,
      "outputs": [
        {
          "output_type": "execute_result",
          "data": {
            "text/plain": [
              "(187320,)"
            ]
          },
          "metadata": {
            "tags": []
          },
          "execution_count": 36
        }
      ]
    },
    {
      "cell_type": "markdown",
      "metadata": {
        "id": "451Y5y8t5OGq"
      },
      "source": [
        "**Here the pretrained weights are being downloaded along with the DistilBertTokenizer which is a light version of the transformer**"
      ],
      "id": "451Y5y8t5OGq"
    },
    {
      "cell_type": "code",
      "metadata": {
        "id": "least-helen"
      },
      "source": [
        "model_class, tokenizer_class, pretrained_weights = (ppb.DistilBertModel, ppb.DistilBertTokenizer, 'distilbert-base-uncased')\n",
        "tokenizer = tokenizer_class.from_pretrained(pretrained_weights)\n",
        "model = model_class.from_pretrained(pretrained_weights)"
      ],
      "id": "least-helen",
      "execution_count": null,
      "outputs": []
    },
    {
      "cell_type": "code",
      "metadata": {
        "id": "regional-alaska",
        "outputId": "ccb912c4-5a41-4bb9-93da-d012cd599383"
      },
      "source": [
        "tot_comment.shape"
      ],
      "id": "regional-alaska",
      "execution_count": null,
      "outputs": [
        {
          "output_type": "execute_result",
          "data": {
            "text/plain": [
              "(187320,)"
            ]
          },
          "metadata": {
            "tags": []
          },
          "execution_count": 38
        }
      ]
    },
    {
      "cell_type": "code",
      "metadata": {
        "id": "athletic-escape",
        "outputId": "2af477ca-691d-48f0-e2cb-64bc1f7c2675"
      },
      "source": [
        "tot_comment[:5]"
      ],
      "id": "athletic-escape",
      "execution_count": null,
      "outputs": [
        {
          "output_type": "execute_result",
          "data": {
            "text/plain": [
              "0    Sorry China,we have a more important deal we n...\n",
              "1    I've dealt with this ER and Dr. on two differe...\n",
              "2    Your belief in a vengeful sky daddy doesn't tr...\n",
              "3    Ah those Russians, have to give em credit for ...\n",
              "4    \"His handles were not elected , there is only ...\n",
              "Name: comment_text, dtype: object"
            ]
          },
          "metadata": {
            "tags": []
          },
          "execution_count": 39
        }
      ]
    },
    {
      "cell_type": "markdown",
      "metadata": {
        "id": "Qbcg9bz45hyx"
      },
      "source": [
        "The text column are being tokeninzed to be later fed on to the model"
      ],
      "id": "Qbcg9bz45hyx"
    },
    {
      "cell_type": "code",
      "metadata": {
        "id": "laden-height"
      },
      "source": [
        "tokenized = tot_comment[:].apply((lambda x: tokenizer.encode(x, add_special_tokens=True,truncation=True,max_length=512)))"
      ],
      "id": "laden-height",
      "execution_count": null,
      "outputs": []
    },
    {
      "cell_type": "code",
      "metadata": {
        "id": "unique-anchor",
        "outputId": "63f79e60-1320-4c6c-fb21-fd022ca29d38"
      },
      "source": [
        "tokenized.shape"
      ],
      "id": "unique-anchor",
      "execution_count": null,
      "outputs": [
        {
          "output_type": "execute_result",
          "data": {
            "text/plain": [
              "(187320,)"
            ]
          },
          "metadata": {
            "tags": []
          },
          "execution_count": 41
        }
      ]
    },
    {
      "cell_type": "markdown",
      "metadata": {
        "id": "bZGXisWb88mb"
      },
      "source": [
        "Finally the tokenized values are saved"
      ],
      "id": "bZGXisWb88mb"
    },
    {
      "cell_type": "code",
      "metadata": {
        "id": "proved-sydney"
      },
      "source": [
        "from numpy import save\n",
        "save('tokenized.npy', tokenized)"
      ],
      "id": "proved-sydney",
      "execution_count": null,
      "outputs": []
    }
  ]
}