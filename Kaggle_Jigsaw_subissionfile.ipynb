{
  "nbformat": 4,
  "nbformat_minor": 5,
  "metadata": {
    "kernelspec": {
      "display_name": "Python 3",
      "language": "python",
      "name": "python3"
    },
    "language_info": {
      "codemirror_mode": {
        "name": "ipython",
        "version": 3
      },
      "file_extension": ".py",
      "mimetype": "text/x-python",
      "name": "python",
      "nbconvert_exporter": "python",
      "pygments_lexer": "ipython3",
      "version": "3.7.10"
    },
    "papermill": {
      "default_parameters": {},
      "duration": 35.824166,
      "end_time": "2021-06-20T09:56:06.879160",
      "environment_variables": {},
      "exception": null,
      "input_path": "__notebook__.ipynb",
      "output_path": "__notebook__.ipynb",
      "parameters": {},
      "start_time": "2021-06-20T09:55:31.054994",
      "version": "2.3.3"
    },
    "colab": {
      "name": "Kaggle_Jigsaw_subissionfile.ipynb",
      "provenance": [],
      "include_colab_link": true
    }
  },
  "cells": [
    {
      "cell_type": "markdown",
      "metadata": {
        "id": "view-in-github",
        "colab_type": "text"
      },
      "source": [
        "<a href=\"https://colab.research.google.com/github/Ariq154404/IM-Project-2/blob/main/Kaggle_Jigsaw_subissionfile.ipynb\" target=\"_parent\"><img src=\"https://colab.research.google.com/assets/colab-badge.svg\" alt=\"Open In Colab\"/></a>"
      ]
    },
    {
      "cell_type": "code",
      "metadata": {
        "_cell_guid": "b1076dfc-b9ad-4769-8c92-a6c4dae69d19",
        "_uuid": "8f2839f25d086af736a60e9eeb907d3b93b6e0e5",
        "execution": {
          "iopub.execute_input": "2021-06-20T09:55:38.763017Z",
          "iopub.status.busy": "2021-06-20T09:55:38.762416Z",
          "iopub.status.idle": "2021-06-20T09:55:38.773903Z",
          "shell.execute_reply": "2021-06-20T09:55:38.774516Z",
          "shell.execute_reply.started": "2021-06-20T09:49:54.974887Z"
        },
        "papermill": {
          "duration": 0.033579,
          "end_time": "2021-06-20T09:55:38.774856",
          "exception": false,
          "start_time": "2021-06-20T09:55:38.741277",
          "status": "completed"
        },
        "tags": [],
        "id": "african-seating",
        "outputId": "598435d0-79b4-48e4-dda6-3927a5ab6797"
      },
      "source": [
        "# This Python 3 environment comes with many helpful analytics libraries installed\n",
        "# It is defined by the kaggle/python Docker image: https://github.com/kaggle/docker-python\n",
        "# For example, here's several helpful packages to load\n",
        "\n",
        "import numpy as np # linear algebra\n",
        "import pandas as pd # data processing, CSV file I/O (e.g. pd.read_csv)\n",
        "\n",
        "# Input data files are available in the read-only \"../input/\" directory\n",
        "# For example, running this (by clicking run or pressing Shift+Enter) will list all files under the input directory\n",
        "\n",
        "import os\n",
        "for dirname, _, filenames in os.walk('/kaggle/input'):\n",
        "    for filename in filenames:\n",
        "        print(os.path.join(dirname, filename))\n",
        "\n",
        "# You can write up to 20GB to the current directory (/kaggle/working/) that gets preserved as output when you create a version using \"Save & Run All\" \n",
        "# You can also write temporary files to /kaggle/temp/, but they won't be saved outside of the current session"
      ],
      "id": "african-seating",
      "execution_count": null,
      "outputs": [
        {
          "output_type": "stream",
          "text": [
            "/kaggle/input/ariq-jigsaw-datsaet/test_feature.npy\n",
            "/kaggle/input/ariq-jigsaw-datsaet/baseline_model.json\n",
            "/kaggle/input/ariq-jigsaw-datsaet/baseline_model.h5\n",
            "/kaggle/input/jigsaw-unintended-bias-in-toxicity-classification/sample_submission.csv\n",
            "/kaggle/input/jigsaw-unintended-bias-in-toxicity-classification/all_data.csv\n",
            "/kaggle/input/jigsaw-unintended-bias-in-toxicity-classification/test_public_expanded.csv\n",
            "/kaggle/input/jigsaw-unintended-bias-in-toxicity-classification/test_private_expanded.csv\n",
            "/kaggle/input/jigsaw-unintended-bias-in-toxicity-classification/toxicity_individual_annotations.csv\n",
            "/kaggle/input/jigsaw-unintended-bias-in-toxicity-classification/train.csv\n",
            "/kaggle/input/jigsaw-unintended-bias-in-toxicity-classification/identity_individual_annotations.csv\n",
            "/kaggle/input/jigsaw-unintended-bias-in-toxicity-classification/test.csv\n"
          ],
          "name": "stdout"
        }
      ]
    },
    {
      "cell_type": "code",
      "metadata": {
        "execution": {
          "iopub.execute_input": "2021-06-20T09:55:38.799144Z",
          "iopub.status.busy": "2021-06-20T09:55:38.798593Z",
          "iopub.status.idle": "2021-06-20T09:55:38.862764Z",
          "shell.execute_reply": "2021-06-20T09:55:38.862029Z",
          "shell.execute_reply.started": "2021-06-20T09:52:14.154354Z"
        },
        "papermill": {
          "duration": 0.077798,
          "end_time": "2021-06-20T09:55:38.862901",
          "exception": false,
          "start_time": "2021-06-20T09:55:38.785103",
          "status": "completed"
        },
        "tags": [],
        "id": "first-material"
      },
      "source": [
        "submission = pd.read_csv('../input/jigsaw-unintended-bias-in-toxicity-classification/sample_submission.csv', index_col='id')"
      ],
      "id": "first-material",
      "execution_count": null,
      "outputs": []
    },
    {
      "cell_type": "code",
      "metadata": {
        "execution": {
          "iopub.execute_input": "2021-06-20T09:55:38.887062Z",
          "iopub.status.busy": "2021-06-20T09:55:38.886492Z",
          "iopub.status.idle": "2021-06-20T09:55:41.692028Z",
          "shell.execute_reply": "2021-06-20T09:55:41.691174Z",
          "shell.execute_reply.started": "2021-06-20T09:52:20.496597Z"
        },
        "papermill": {
          "duration": 2.819579,
          "end_time": "2021-06-20T09:55:41.692157",
          "exception": false,
          "start_time": "2021-06-20T09:55:38.872578",
          "status": "completed"
        },
        "tags": [],
        "id": "norman-memorabilia"
      },
      "source": [
        "import numpy as np\n",
        "import pandas as pd\n",
        "from sklearn.model_selection import train_test_split\n",
        "from sklearn.linear_model import LogisticRegression\n",
        "from sklearn.model_selection import GridSearchCV\n",
        "from sklearn.model_selection import cross_val_score\n",
        "import torch\n",
        "import transformers as ppb\n",
        "import warnings\n",
        "warnings.filterwarnings('ignore')"
      ],
      "id": "norman-memorabilia",
      "execution_count": null,
      "outputs": []
    },
    {
      "cell_type": "code",
      "metadata": {
        "execution": {
          "iopub.execute_input": "2021-06-20T09:55:41.715115Z",
          "iopub.status.busy": "2021-06-20T09:55:41.714494Z",
          "iopub.status.idle": "2021-06-20T09:55:54.609707Z",
          "shell.execute_reply": "2021-06-20T09:55:54.609101Z",
          "shell.execute_reply.started": "2021-06-20T09:52:43.381510Z"
        },
        "papermill": {
          "duration": 12.908751,
          "end_time": "2021-06-20T09:55:54.609895",
          "exception": false,
          "start_time": "2021-06-20T09:55:41.701144",
          "status": "completed"
        },
        "tags": [],
        "id": "affected-lightning"
      },
      "source": [
        "from keras.models import model_from_json\n",
        "\n",
        "# load json and create model\n",
        "json_file = open('../input/ariq-jigsaw-datsaet/baseline_model.json', 'r')\n",
        "loaded_model_json = json_file.read()\n",
        "json_file.close()\n",
        "loaded_model = model_from_json(loaded_model_json)\n",
        "# load weights into new model\n",
        "loaded_model.load_weights(\"../input/ariq-jigsaw-datsaet/baseline_model.h5\")"
      ],
      "id": "affected-lightning",
      "execution_count": null,
      "outputs": []
    },
    {
      "cell_type": "code",
      "metadata": {
        "execution": {
          "iopub.execute_input": "2021-06-20T09:55:54.633450Z",
          "iopub.status.busy": "2021-06-20T09:55:54.632594Z",
          "iopub.status.idle": "2021-06-20T09:55:54.640327Z",
          "shell.execute_reply": "2021-06-20T09:55:54.640715Z",
          "shell.execute_reply.started": "2021-06-20T09:53:20.901308Z"
        },
        "papermill": {
          "duration": 0.022157,
          "end_time": "2021-06-20T09:55:54.640876",
          "exception": false,
          "start_time": "2021-06-20T09:55:54.618719",
          "status": "completed"
        },
        "tags": [],
        "id": "chubby-houston",
        "outputId": "2f039d94-439d-41c4-8d4f-05b98a703e8d"
      },
      "source": [
        "loaded_model.summary()"
      ],
      "id": "chubby-houston",
      "execution_count": null,
      "outputs": [
        {
          "output_type": "stream",
          "text": [
            "Model: \"sequential\"\n",
            "_________________________________________________________________\n",
            "Layer (type)                 Output Shape              Param #   \n",
            "=================================================================\n",
            "batch_normalization (BatchNo (None, 768)               3072      \n",
            "_________________________________________________________________\n",
            "dense (Dense)                (None, 256)               196864    \n",
            "_________________________________________________________________\n",
            "batch_normalization_1 (Batch (None, 256)               1024      \n",
            "_________________________________________________________________\n",
            "dropout (Dropout)            (None, 256)               0         \n",
            "_________________________________________________________________\n",
            "dense_1 (Dense)              (None, 64)                16448     \n",
            "_________________________________________________________________\n",
            "batch_normalization_2 (Batch (None, 64)                256       \n",
            "_________________________________________________________________\n",
            "dropout_1 (Dropout)          (None, 64)                0         \n",
            "_________________________________________________________________\n",
            "dense_2 (Dense)              (None, 1)                 65        \n",
            "=================================================================\n",
            "Total params: 217,729\n",
            "Trainable params: 215,553\n",
            "Non-trainable params: 2,176\n",
            "_________________________________________________________________\n"
          ],
          "name": "stdout"
        }
      ]
    },
    {
      "cell_type": "code",
      "metadata": {
        "execution": {
          "iopub.execute_input": "2021-06-20T09:55:54.662727Z",
          "iopub.status.busy": "2021-06-20T09:55:54.662170Z",
          "iopub.status.idle": "2021-06-20T09:55:58.698158Z",
          "shell.execute_reply": "2021-06-20T09:55:58.697298Z",
          "shell.execute_reply.started": "2021-06-20T09:53:36.240153Z"
        },
        "papermill": {
          "duration": 4.048372,
          "end_time": "2021-06-20T09:55:58.698328",
          "exception": false,
          "start_time": "2021-06-20T09:55:54.649956",
          "status": "completed"
        },
        "tags": [],
        "id": "light-awareness"
      },
      "source": [
        "tst_fea=np.load('../input/ariq-jigsaw-datsaet/test_feature.npy')"
      ],
      "id": "light-awareness",
      "execution_count": null,
      "outputs": []
    },
    {
      "cell_type": "code",
      "metadata": {
        "execution": {
          "iopub.execute_input": "2021-06-20T09:55:58.940763Z",
          "iopub.status.busy": "2021-06-20T09:55:58.939933Z",
          "iopub.status.idle": "2021-06-20T09:56:03.309055Z",
          "shell.execute_reply": "2021-06-20T09:56:03.308100Z",
          "shell.execute_reply.started": "2021-06-20T09:53:59.111390Z"
        },
        "papermill": {
          "duration": 4.601126,
          "end_time": "2021-06-20T09:56:03.309234",
          "exception": false,
          "start_time": "2021-06-20T09:55:58.708108",
          "status": "completed"
        },
        "tags": [],
        "id": "everyday-membrane"
      },
      "source": [
        "pred=loaded_model.predict_proba(tst_fea)"
      ],
      "id": "everyday-membrane",
      "execution_count": null,
      "outputs": []
    },
    {
      "cell_type": "code",
      "metadata": {
        "execution": {
          "iopub.execute_input": "2021-06-20T09:56:03.333725Z",
          "iopub.status.busy": "2021-06-20T09:56:03.332039Z",
          "iopub.status.idle": "2021-06-20T09:56:03.334394Z",
          "shell.execute_reply": "2021-06-20T09:56:03.334809Z",
          "shell.execute_reply.started": "2021-06-20T09:54:17.752813Z"
        },
        "papermill": {
          "duration": 0.016418,
          "end_time": "2021-06-20T09:56:03.334949",
          "exception": false,
          "start_time": "2021-06-20T09:56:03.318531",
          "status": "completed"
        },
        "tags": [],
        "id": "forty-signal"
      },
      "source": [
        "npred=pred.ravel()"
      ],
      "id": "forty-signal",
      "execution_count": null,
      "outputs": []
    },
    {
      "cell_type": "code",
      "metadata": {
        "execution": {
          "iopub.execute_input": "2021-06-20T09:56:03.358944Z",
          "iopub.status.busy": "2021-06-20T09:56:03.358225Z",
          "iopub.status.idle": "2021-06-20T09:56:03.361968Z",
          "shell.execute_reply": "2021-06-20T09:56:03.361510Z",
          "shell.execute_reply.started": "2021-06-20T09:54:40.027129Z"
        },
        "papermill": {
          "duration": 0.017704,
          "end_time": "2021-06-20T09:56:03.362086",
          "exception": false,
          "start_time": "2021-06-20T09:56:03.344382",
          "status": "completed"
        },
        "tags": [],
        "id": "cardiac-history"
      },
      "source": [
        "submission['prediction']=npred"
      ],
      "id": "cardiac-history",
      "execution_count": null,
      "outputs": []
    },
    {
      "cell_type": "code",
      "metadata": {
        "execution": {
          "iopub.execute_input": "2021-06-20T09:56:03.390025Z",
          "iopub.status.busy": "2021-06-20T09:56:03.389268Z",
          "iopub.status.idle": "2021-06-20T09:56:03.398861Z",
          "shell.execute_reply": "2021-06-20T09:56:03.399348Z",
          "shell.execute_reply.started": "2021-06-20T09:55:11.022359Z"
        },
        "papermill": {
          "duration": 0.028138,
          "end_time": "2021-06-20T09:56:03.399550",
          "exception": false,
          "start_time": "2021-06-20T09:56:03.371412",
          "status": "completed"
        },
        "tags": [],
        "id": "affected-rabbit",
        "outputId": "d892ba02-e4c5-4916-ab69-b756835f55de"
      },
      "source": [
        "submission.head()"
      ],
      "id": "affected-rabbit",
      "execution_count": null,
      "outputs": [
        {
          "output_type": "execute_result",
          "data": {
            "text/html": [
              "<div>\n",
              "<style scoped>\n",
              "    .dataframe tbody tr th:only-of-type {\n",
              "        vertical-align: middle;\n",
              "    }\n",
              "\n",
              "    .dataframe tbody tr th {\n",
              "        vertical-align: top;\n",
              "    }\n",
              "\n",
              "    .dataframe thead th {\n",
              "        text-align: right;\n",
              "    }\n",
              "</style>\n",
              "<table border=\"1\" class=\"dataframe\">\n",
              "  <thead>\n",
              "    <tr style=\"text-align: right;\">\n",
              "      <th></th>\n",
              "      <th>prediction</th>\n",
              "    </tr>\n",
              "    <tr>\n",
              "      <th>id</th>\n",
              "      <th></th>\n",
              "    </tr>\n",
              "  </thead>\n",
              "  <tbody>\n",
              "    <tr>\n",
              "      <th>7097320</th>\n",
              "      <td>0.002729</td>\n",
              "    </tr>\n",
              "    <tr>\n",
              "      <th>7097321</th>\n",
              "      <td>0.142286</td>\n",
              "    </tr>\n",
              "    <tr>\n",
              "      <th>7097322</th>\n",
              "      <td>0.028926</td>\n",
              "    </tr>\n",
              "    <tr>\n",
              "      <th>7097323</th>\n",
              "      <td>0.013534</td>\n",
              "    </tr>\n",
              "    <tr>\n",
              "      <th>7097324</th>\n",
              "      <td>0.019296</td>\n",
              "    </tr>\n",
              "  </tbody>\n",
              "</table>\n",
              "</div>"
            ],
            "text/plain": [
              "         prediction\n",
              "id                 \n",
              "7097320    0.002729\n",
              "7097321    0.142286\n",
              "7097322    0.028926\n",
              "7097323    0.013534\n",
              "7097324    0.019296"
            ]
          },
          "metadata": {
            "tags": []
          },
          "execution_count": 10
        }
      ]
    },
    {
      "cell_type": "code",
      "metadata": {
        "execution": {
          "iopub.execute_input": "2021-06-20T09:56:03.425002Z",
          "iopub.status.busy": "2021-06-20T09:56:03.424402Z",
          "iopub.status.idle": "2021-06-20T09:56:03.891299Z",
          "shell.execute_reply": "2021-06-20T09:56:03.890725Z",
          "shell.execute_reply.started": "2021-06-20T09:55:17.660515Z"
        },
        "papermill": {
          "duration": 0.481344,
          "end_time": "2021-06-20T09:56:03.891440",
          "exception": false,
          "start_time": "2021-06-20T09:56:03.410096",
          "status": "completed"
        },
        "tags": [],
        "id": "mobile-immigration"
      },
      "source": [
        "submission.to_csv('submission.csv')"
      ],
      "id": "mobile-immigration",
      "execution_count": null,
      "outputs": []
    }
  ]
}